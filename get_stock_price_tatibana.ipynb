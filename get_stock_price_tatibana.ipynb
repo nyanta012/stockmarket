{
  "nbformat": 4,
  "nbformat_minor": 0,
  "metadata": {
    "colab": {
      "provenance": [],
      "authorship_tag": "ABX9TyOyVy30URUjh/PkjButUIev",
      "include_colab_link": true
    },
    "kernelspec": {
      "name": "python3",
      "display_name": "Python 3"
    },
    "language_info": {
      "name": "python"
    }
  },
  "cells": [
    {
      "cell_type": "markdown",
      "metadata": {
        "id": "view-in-github",
        "colab_type": "text"
      },
      "source": [
        "<a href=\"https://colab.research.google.com/github/nyanta012/stockmarket/blob/main/get_stock_price_tatibana.ipynb\" target=\"_parent\"><img src=\"https://colab.research.google.com/assets/colab-badge.svg\" alt=\"Open In Colab\"/></a>"
      ]
    },
    {
      "cell_type": "code",
      "execution_count": null,
      "metadata": {
        "id": "hvq-m-L8bQzv"
      },
      "outputs": [],
      "source": [
        "import pandas as pd\n",
        "import datetime\n",
        "import requests\n",
        "import json\n",
        "import time\n",
        "import pytz\n",
        "from tqdm import tqdm"
      ]
    },
    {
      "cell_type": "code",
      "source": [
        "tatibana_id = \"****\"\n",
        "tatibana_pwd = \"****\""
      ],
      "metadata": {
        "id": "WwnlGV34bVfS"
      },
      "execution_count": null,
      "outputs": []
    },
    {
      "cell_type": "code",
      "source": [
        "class TatibanaAPI:\n",
        "    def __init__(self, tatibana_id, tatibana_pwd):\n",
        "        params = {\n",
        "            \"p_no\": \"1\",\n",
        "            \"p_sd_date\": self.get_current_time().strftime(\"%Y.%m.%d-%H:%M:%S.%f\")[\n",
        "                :-3\n",
        "            ],  # date+\".000\",\n",
        "            \"sCLMID\": \"CLMAuthLoginRequest\",\n",
        "            \"sUserId\": tatibana_id,\n",
        "            \"sPassword\": tatibana_pwd,\n",
        "            \"sJsonOfmt\": \"4\",\n",
        "        }\n",
        "        url = \"https://kabuka.e-shiten.jp/e_api_v4r2/auth/\"\n",
        "        self.my_url = requests.get(url, params=json.dumps(params)).json()[\"sUrlRequest\"]\n",
        "        self.counter = 2\n",
        "        self.tatibana_id = tatibana_id\n",
        "        self.tatibana_pwd = tatibana_pwd\n",
        "\n",
        "    def get_current_time(self):\n",
        "        return datetime.datetime.now(pytz.timezone(\"Asia/Tokyo\"))\n",
        "\n",
        "    def get_price(self, code):\n",
        "        params = {\n",
        "            \"p_no\": str(self.counter),\n",
        "            \"p_sd_date\": self.get_current_time().strftime(\"%Y.%m.%d-%H:%M:%S.%f\")[\n",
        "                :-3\n",
        "            ],  # date+\".000\",\n",
        "            \"sCLMID\": \"CLMMfdsGetMarketPrice\",\n",
        "            \"sTargetIssueCode\": str(code),\n",
        "            \"sTargetColumn\": \"pDOP,pDHP,pDLP,pDPP,pDV,pDJ,pDYRP,xLISS\",\n",
        "            \"sJsonOfmt\": \"4\",\n",
        "        }\n",
        "        res = requests.get(self.my_url, params=json.dumps(params)).json()\n",
        "        if res[\"p_errno\"] == \"0\":\n",
        "            self.counter += 1\n",
        "        return res[\"aCLMMfdsMarketPrice\"]"
      ],
      "metadata": {
        "id": "7AurMo1vbYLB"
      },
      "execution_count": null,
      "outputs": []
    },
    {
      "cell_type": "code",
      "source": [
        "runner = TatibanaAPI(tatibana_id=tatibana_id, tatibana_pwd=tatibana_pwd)"
      ],
      "metadata": {
        "id": "hCNJtJyRbnyS"
      },
      "execution_count": null,
      "outputs": []
    },
    {
      "cell_type": "code",
      "source": [
        "code_list = [1332, 1333, 1414, 1417, 1605, 1721, 1801, 1802, 1803, 1808]"
      ],
      "metadata": {
        "id": "d97GL3SPboWl"
      },
      "execution_count": null,
      "outputs": []
    },
    {
      "cell_type": "code",
      "source": [
        "data_list = []\n",
        "for code in tqdm(code_list):\n",
        "    data_list.extend(runner.get_price(int(code)))"
      ],
      "metadata": {
        "id": "vO2LKyjWbq6M"
      },
      "execution_count": null,
      "outputs": []
    },
    {
      "cell_type": "code",
      "source": [
        "df = pd.DataFrame.from_dict(data_list)\n",
        "rename_dict = {'sIssueCode':\"コード\",\n",
        "               \"pDOP\":\"始値\",\n",
        "               \"pDHP\":\"高値\",\n",
        "               \"pDLP\":\"安値\",\n",
        "               \"pDPP\":\"現在値\",\n",
        "               \"pDV\":\"出来高\",\n",
        "               \"pDJ\":\"売買代金\",\n",
        "               \"pDYRP\":\"騰落率\",\n",
        "               \"xLISS\":\"市場\",\n",
        "              }\n",
        "df = df.rename(columns=rename_dict)"
      ],
      "metadata": {
        "id": "DYljYX8mbsjD"
      },
      "execution_count": null,
      "outputs": []
    },
    {
      "cell_type": "code",
      "source": [
        "df"
      ],
      "metadata": {
        "id": "3cnGfSXkbtik"
      },
      "execution_count": null,
      "outputs": []
    }
  ]
}