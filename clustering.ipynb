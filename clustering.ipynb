{
  "nbformat": 4,
  "nbformat_minor": 0,
  "metadata": {
    "colab": {
      "provenance": [],
      "authorship_tag": "ABX9TyNQAqs8Ijji0rUJDWAOZhJx"
    },
    "kernelspec": {
      "name": "python3",
      "display_name": "Python 3"
    },
    "language_info": {
      "name": "python"
    }
  },
  "cells": [
    {
      "cell_type": "markdown",
      "source": [
        "TOPIX500銘柄の取得"
      ],
      "metadata": {
        "id": "8Dja6_xmsy1S"
      }
    },
    {
      "cell_type": "code",
      "execution_count": null,
      "metadata": {
        "id": "e-Nlr6omsIur"
      },
      "outputs": [],
      "source": [
        "from tqdm import tqdm\n",
        "import pandas as pd\n",
        "import jquantsapi\n",
        "import os\n",
        "import warnings\n",
        "\n",
        "warnings.simplefilter(\"ignore\")\n",
        "\n",
        "import matplotlib.pyplot as plt\n",
        "\n",
        "data_list = []\n",
        "for path in sorted(os.listdir(\"../data/jquants_api_20221128/\")):\n",
        "    data_list.append(pd.read_parquet(\"../data/jquants_api_20221128/\" + path))\n",
        "\n",
        "topix_500 = pd.concat(data_list)\n",
        "\n",
        "df = topix_500.copy()\n",
        "df = df.sort_values([\"Code\", \"Date\"]).reset_index(drop=True)\n",
        "df[\"close_change\"] = df.groupby([\"Code\"])[\"AdjustmentClose\"].pct_change()\n",
        "df = df.set_index([\"Code\", \"Date\"])[[\"close_change\"]].unstack(-1)\n",
        "\n",
        "# 欠損を持つ対象は除外する\n",
        "df = df.iloc[:, 1:].dropna()"
      ]
    },
    {
      "cell_type": "markdown",
      "source": [
        "クラスタリングの実装"
      ],
      "metadata": {
        "id": "h6fW_H6Asn0W"
      }
    },
    {
      "cell_type": "code",
      "source": [
        "from scipy.cluster.hierarchy import dendrogram, linkage, fcluster\n",
        "Z = linkage(df, method='ward') "
      ],
      "metadata": {
        "id": "CLuIf_XOsSUR"
      },
      "execution_count": null,
      "outputs": []
    },
    {
      "cell_type": "markdown",
      "source": [
        "系列情報を表示"
      ],
      "metadata": {
        "id": "-aDLgCoWs7gs"
      }
    },
    {
      "cell_type": "code",
      "source": [
        "plt.figure(figsize=(16, 6))\n",
        "dendrogram(Z, labels=list(df.index))\n",
        "plt.title(\"Dedrogram\")\n",
        "plt.show()"
      ],
      "metadata": {
        "id": "V-F4JkLJs20F"
      },
      "execution_count": null,
      "outputs": []
    },
    {
      "cell_type": "markdown",
      "source": [
        "最後の方だけ表示"
      ],
      "metadata": {
        "id": "ObtdkfA5s-7X"
      }
    },
    {
      "cell_type": "code",
      "source": [
        "plt.figure(figsize=(16, 6))\n",
        "dendrogram(Z, labels=list(df.index), truncate_mode=\"lastp\", p=30)\n",
        "plt.title(\"Dedrogram\")\n",
        "plt.show()"
      ],
      "metadata": {
        "id": "s4a21Kd9s3EK"
      },
      "execution_count": null,
      "outputs": []
    },
    {
      "cell_type": "markdown",
      "source": [
        "クラスタ番号の取得"
      ],
      "metadata": {
        "id": "9KXzHltAtOOT"
      }
    },
    {
      "cell_type": "code",
      "source": [
        "clusters = fcluster(Z, 30, criterion=\"maxclust\")\n",
        "cluster_dict = dict(zip(df.index.values, clusters))"
      ],
      "metadata": {
        "id": "k8JOO10qtFpb"
      },
      "execution_count": null,
      "outputs": []
    },
    {
      "cell_type": "markdown",
      "source": [
        "6532の株価推移の表示"
      ],
      "metadata": {
        "id": "MtdRNgHStXhx"
      }
    },
    {
      "cell_type": "code",
      "source": [
        "topix_500[\"cluster\"] = topix_500[\"Code\"].map(cluster_dict)\n",
        "topix_500[topix_500[\"Code\"] == \"65320\"].plot(\n",
        "    x=\"Date\", y=\"AdjustmentClose\", figsize=(12, 4), title=\"65320\"\n",
        ")"
      ],
      "metadata": {
        "id": "kJXdNSC0tRvC"
      },
      "execution_count": null,
      "outputs": []
    },
    {
      "cell_type": "markdown",
      "source": [
        "JQuantsAPIから銘柄情報を取得"
      ],
      "metadata": {
        "id": "qnl_X-Y1tej5"
      }
    },
    {
      "cell_type": "code",
      "source": [
        "my_mail_address:str = \"***\"\n",
        "my_password: str = \"***\"\n",
        "\n",
        "cli = jquantsapi.Client(mail_address=my_mail_address, password=my_password)\n",
        "\n",
        "info_df = cli.get_listed_info()\n",
        "info_df[\"cluster\"] = info_df[\"Code\"].map(cluster_dict)\n",
        "info_df = info_df[~info_df[\"cluster\"].isnull()].reset_index(drop=True)"
      ],
      "metadata": {
        "id": "SAjp6mMjtSQR"
      },
      "execution_count": null,
      "outputs": []
    }
  ]
}